{
 "cells": [
  {
   "cell_type": "code",
   "execution_count": 1,
   "metadata": {},
   "outputs": [],
   "source": [
    "import dagstermill"
   ]
  },
  {
   "cell_type": "code",
   "execution_count": 2,
   "metadata": {
    "tags": [
     "parameters"
    ]
   },
   "outputs": [],
   "source": [
    "context = dagstermill.get_context()\n",
    "\n",
    "table_name = 'delays_vs_fares'"
   ]
  },
  {
   "cell_type": "code",
   "execution_count": null,
   "metadata": {},
   "outputs": [],
   "source": [
    "db_url = context.resources.db_info.url"
   ]
  },
  {
   "cell_type": "code",
   "execution_count": 3,
   "metadata": {},
   "outputs": [],
   "source": [
    "import os\n",
    "\n",
    "import sqlalchemy as sa\n",
    "import matplotlib.pyplot as plt\n",
    "import numpy as np\n",
    "import pandas as pd\n",
    "\n",
    "from dagster.utils import mkdir_p"
   ]
  },
  {
   "cell_type": "code",
   "execution_count": 4,
   "metadata": {},
   "outputs": [
    {
     "name": "stderr",
     "output_type": "stream",
     "text": [
      "/Users/max/.virtualenvs/dagster/lib/python3.6/site-packages/psycopg2/__init__.py:144: UserWarning: The psycopg2 wheel package will be renamed from release 2.8; in order to keep installing from binary please use \"pip install psycopg2-binary\" instead. For details see: <http://initd.org/psycopg/docs/install.html#binary-install-from-pypi>.\n",
      "  \"\"\")\n"
     ]
    }
   ],
   "source": [
    "engine = sa.create_engine(db_url)"
   ]
  },
  {
   "cell_type": "code",
   "execution_count": 5,
   "metadata": {},
   "outputs": [],
   "source": [
    "from matplotlib.backends.backend_pdf import PdfPages\n",
    "plots_path = os.path.join(os.getcwd(), 'plots')\n",
    "mkdir_p(plots_path)\n",
    "pdf_path = os.path.join(plots_path, 'fares_vs_delays.pdf')\n",
    "pp = PdfPages(pdf_path)"
   ]
  },
  {
   "cell_type": "code",
   "execution_count": 6,
   "metadata": {},
   "outputs": [],
   "source": [
    "fares_vs_delays = pd.read_sql('select * from {table_name}'.format(table_name=table_name), engine)"
   ]
  },
  {
   "cell_type": "code",
   "execution_count": 7,
   "metadata": {},
   "outputs": [
    {
     "data": {
      "text/html": [
       "<div>\n",
       "<style scoped>\n",
       "    .dataframe tbody tr th:only-of-type {\n",
       "        vertical-align: middle;\n",
       "    }\n",
       "\n",
       "    .dataframe tbody tr th {\n",
       "        vertical-align: top;\n",
       "    }\n",
       "\n",
       "    .dataframe thead th {\n",
       "        text-align: right;\n",
       "    }\n",
       "</style>\n",
       "<table border=\"1\" class=\"dataframe\">\n",
       "  <thead>\n",
       "    <tr style=\"text-align: right;\">\n",
       "      <th></th>\n",
       "      <th>origin</th>\n",
       "      <th>dest</th>\n",
       "      <th>avg_fare</th>\n",
       "      <th>avg_fare_per_mile</th>\n",
       "      <th>avg_arrival_delay</th>\n",
       "      <th>avg_departure_delay</th>\n",
       "    </tr>\n",
       "  </thead>\n",
       "  <tbody>\n",
       "    <tr>\n",
       "      <th>0</th>\n",
       "      <td>SFO</td>\n",
       "      <td>IND</td>\n",
       "      <td>434.767524</td>\n",
       "      <td>0.142556</td>\n",
       "      <td>4.730924</td>\n",
       "      <td>11.188755</td>\n",
       "    </tr>\n",
       "    <tr>\n",
       "      <th>1</th>\n",
       "      <td>SFO</td>\n",
       "      <td>CVG</td>\n",
       "      <td>489.184236</td>\n",
       "      <td>0.146830</td>\n",
       "      <td>-6.628049</td>\n",
       "      <td>4.054545</td>\n",
       "    </tr>\n",
       "    <tr>\n",
       "      <th>2</th>\n",
       "      <td>SFO</td>\n",
       "      <td>MSY</td>\n",
       "      <td>498.145642</td>\n",
       "      <td>0.152935</td>\n",
       "      <td>-6.733871</td>\n",
       "      <td>6.397590</td>\n",
       "    </tr>\n",
       "    <tr>\n",
       "      <th>3</th>\n",
       "      <td>SFO</td>\n",
       "      <td>SEA</td>\n",
       "      <td>368.674415</td>\n",
       "      <td>0.237027</td>\n",
       "      <td>13.233090</td>\n",
       "      <td>12.270567</td>\n",
       "    </tr>\n",
       "    <tr>\n",
       "      <th>4</th>\n",
       "      <td>SFO</td>\n",
       "      <td>OKC</td>\n",
       "      <td>428.348442</td>\n",
       "      <td>0.186265</td>\n",
       "      <td>10.461538</td>\n",
       "      <td>15.736264</td>\n",
       "    </tr>\n",
       "  </tbody>\n",
       "</table>\n",
       "</div>"
      ],
      "text/plain": [
       "  origin dest    avg_fare  avg_fare_per_mile  avg_arrival_delay  \\\n",
       "0    SFO  IND  434.767524           0.142556           4.730924   \n",
       "1    SFO  CVG  489.184236           0.146830          -6.628049   \n",
       "2    SFO  MSY  498.145642           0.152935          -6.733871   \n",
       "3    SFO  SEA  368.674415           0.237027          13.233090   \n",
       "4    SFO  OKC  428.348442           0.186265          10.461538   \n",
       "\n",
       "   avg_departure_delay  \n",
       "0            11.188755  \n",
       "1             4.054545  \n",
       "2             6.397590  \n",
       "3            12.270567  \n",
       "4            15.736264  "
      ]
     },
     "execution_count": 7,
     "metadata": {},
     "output_type": "execute_result"
    }
   ],
   "source": [
    "fares_vs_delays.head()"
   ]
  },
  {
   "cell_type": "code",
   "execution_count": 8,
   "metadata": {},
   "outputs": [
    {
     "data": {
      "text/plain": [
       "count    84.000000\n",
       "mean      7.319261\n",
       "std      11.965286\n",
       "min     -19.000000\n",
       "25%       2.347601\n",
       "50%       7.380119\n",
       "75%      11.461447\n",
       "max      93.090909\n",
       "Name: avg_arrival_delay, dtype: float64"
      ]
     },
     "execution_count": 8,
     "metadata": {},
     "output_type": "execute_result"
    }
   ],
   "source": [
    "fares_vs_delays['avg_arrival_delay'].describe()"
   ]
  },
  {
   "cell_type": "code",
   "execution_count": 9,
   "metadata": {},
   "outputs": [
    {
     "data": {
      "image/png": "[encoded data removed]",
      "text/plain": [
       "<Figure size 432x288 with 1 Axes>"
      ]
     },
     "metadata": {
      "needs_background": "light"
     },
     "output_type": "display_data"
    }
   ],
   "source": [
    "plt.scatter(fares_vs_delays['avg_arrival_delay'], fares_vs_delays['avg_fare'])\n",
    "\n",
    "try:\n",
    "    z = np.polyfit(fares_vs_delays['avg_arrival_delay'], fares_vs_delays['avg_fare'], 1)\n",
    "    f = np.poly1d(z)\n",
    "\n",
    "    x_fit = np.linspace(fares_vs_delays['avg_arrival_delay'].min(), fares_vs_delays['avg_arrival_delay'].max(), 50)\n",
    "    y_fit = f(x_fit)\n",
    "    plt.plot(x_fit, y_fit, 'k--', alpha=0.5)\n",
    "except:\n",
    "    pass\n",
    "\n",
    "plt.title('Arrival Delays vs. Fares (Origin SFO)')\n",
    "plt.xlabel('Average Delay at Arrival (Minutes)')\n",
    "plt.ylabel('Average Fare ($)')\n",
    "pp.savefig()"
   ]
  },
  {
   "cell_type": "code",
   "execution_count": 10,
   "metadata": {},
   "outputs": [
    {
     "data": {
      "image/png": "[encoded data removed]",
      "text/plain": [
       "<Figure size 720x720 with 1 Axes>"
      ]
     },
     "metadata": {
      "needs_background": "light"
     },
     "output_type": "display_data"
    }
   ],
   "source": [
    "fig, ax = plt.subplots(figsize=(10,10))\n",
    "\n",
    "for i, _ in enumerate(fares_vs_delays.index):\n",
    "    plt.text(\n",
    "        fares_vs_delays['avg_arrival_delay'][i],\n",
    "        fares_vs_delays['avg_fare_per_mile'][i],\n",
    "        fares_vs_delays['dest'][i],\n",
    "        fontsize=8)\n",
    "\n",
    "plt.scatter(fares_vs_delays['avg_arrival_delay'], fares_vs_delays['avg_fare_per_mile'], alpha=0)\n",
    "plt.title('Flight Delays (Origin SFO)')\n",
    "plt.xlabel('Average Delay at Arrival (Minutes)')\n",
    "plt.ylabel('Average Fare per Mile Flown($)')\n",
    "\n",
    "pp.savefig()"
   ]
  },
  {
   "cell_type": "code",
   "execution_count": 11,
   "metadata": {},
   "outputs": [],
   "source": [
    "pp.close()"
   ]
  },
  {
   "cell_type": "code",
   "execution_count": 2,
   "metadata": {},
   "outputs": [],
   "source": [
    "\n"
   ]
  },
  {
   "cell_type": "code",
   "execution_count": null,
   "metadata": {},
   "outputs": [],
   "source": [
    "from dagster import LocalFileHandle\n",
    "dagstermill.yield_result(LocalFileHandle(pdf_path))"
   ]
  }
 ],
 "metadata": {
  "celltoolbar": "Tags",
  "kernelspec": {
   "display_name": "Python 3",
   "language": "python",
   "name": "python3"
  },
  "language_info": {
   "codemirror_mode": {
    "name": "ipython",
    "version": 3
   },
   "file_extension": ".py",
   "mimetype": "text/x-python",
   "name": "python",
   "nbconvert_exporter": "python",
   "pygments_lexer": "ipython3",
   "version": "3.6.8"
  }
 },
 "nbformat": 4,
 "nbformat_minor": 2
}
