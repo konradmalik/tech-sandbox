{
 "cells": [
  {
   "cell_type": "markdown",
   "metadata": {
    "colab_type": "text",
    "id": "wTCNfLLgeOp5"
   },
   "source": [
    "# Install Dependencies\n",
    "\n",
    "If you are running on Google Colab, you need to install the necessary dependencies before beginning the exercise."
   ]
  },
  {
   "cell_type": "code",
   "execution_count": null,
   "metadata": {
    "colab": {},
    "colab_type": "code",
    "id": "gS2mswUUeMr8"
   },
   "outputs": [
    {
     "name": "stdout",
     "output_type": "stream",
     "text": [
      "NOTE: Intentionally crashing session to use the newly installed library.\n",
      "\n",
      "\u001b[33mSkipping pyarrow as it is not installed.\u001b[0m\n",
      "Requirement already satisfied: ray[debug]==0.7.5 in /usr/local/lib/python2.7/site-packages (0.7.5)\n",
      "Requirement already satisfied: filelock in /usr/local/lib/python2.7/site-packages (from ray[debug]==0.7.5) (3.0.12)\n",
      "Requirement already satisfied: colorama in /usr/local/lib/python2.7/site-packages (from ray[debug]==0.7.5) (0.3.9)\n",
      "Requirement already satisfied: protobuf>=3.8.0 in /usr/local/lib/python2.7/site-packages (from ray[debug]==0.7.5) (3.9.1)\n",
      "Requirement already satisfied: faulthandler; python_version < \"3.3\" in /usr/local/lib/python2.7/site-packages (from ray[debug]==0.7.5) (3.1)\n",
      "Requirement already satisfied: numpy>=1.14 in /usr/local/lib/python2.7/site-packages (from ray[debug]==0.7.5) (1.15.1)\n",
      "Requirement already satisfied: six>=1.0.0 in /usr/local/lib/python2.7/site-packages (from ray[debug]==0.7.5) (1.11.0)\n",
      "Requirement already satisfied: click in /usr/local/lib/python2.7/site-packages (from ray[debug]==0.7.5) (7.0)\n",
      "Requirement already satisfied: pytest in /usr/local/lib/python2.7/site-packages (from ray[debug]==0.7.5) (3.8.1)\n",
      "Requirement already satisfied: funcsigs in /usr/local/lib/python2.7/site-packages (from ray[debug]==0.7.5) (1.0.2)\n",
      "Requirement already satisfied: pyyaml in /usr/local/lib/python2.7/site-packages (from ray[debug]==0.7.5) (3.13)\n",
      "Requirement already satisfied: jsonschema in /usr/local/lib/python2.7/site-packages (from ray[debug]==0.7.5) (2.6.0)\n",
      "Requirement already satisfied: redis>=3.3.2 in /usr/local/lib/python2.7/site-packages (from ray[debug]==0.7.5) (3.3.8)\n",
      "Requirement already satisfied: py-spy; extra == \"debug\" in /usr/local/lib/python2.7/site-packages (from ray[debug]==0.7.5) (0.2.2)\n",
      "Requirement already satisfied: setproctitle; extra == \"debug\" in /usr/local/lib/python2.7/site-packages (from ray[debug]==0.7.5) (1.1.10)\n",
      "Requirement already satisfied: psutil; extra == \"debug\" in /usr/local/lib/python2.7/site-packages (from ray[debug]==0.7.5) (5.4.7)\n",
      "Requirement already satisfied: setuptools in /usr/local/lib/python2.7/site-packages (from protobuf>=3.8.0->ray[debug]==0.7.5) (39.1.0)\n",
      "Requirement already satisfied: atomicwrites>=1.0 in /usr/local/lib/python2.7/site-packages (from pytest->ray[debug]==0.7.5) (1.2.1)\n",
      "Requirement already satisfied: py>=1.5.0 in /usr/local/lib/python2.7/site-packages (from pytest->ray[debug]==0.7.5) (1.6.0)\n",
      "Requirement already satisfied: pathlib2>=2.2.0; python_version < \"3.6\" in /usr/local/lib/python2.7/site-packages (from pytest->ray[debug]==0.7.5) (2.3.2)\n",
      "Requirement already satisfied: more-itertools>=4.0.0 in /usr/local/lib/python2.7/site-packages (from pytest->ray[debug]==0.7.5) (4.3.0)\n",
      "Requirement already satisfied: pluggy>=0.7 in /usr/local/lib/python2.7/site-packages (from pytest->ray[debug]==0.7.5) (0.7.1)\n",
      "Requirement already satisfied: attrs>=17.4.0 in /usr/local/lib/python2.7/site-packages (from pytest->ray[debug]==0.7.5) (18.2.0)\n",
      "Requirement already satisfied: functools32; python_version == \"2.7\" in /usr/local/lib/python2.7/site-packages (from jsonschema->ray[debug]==0.7.5) (3.2.3.post2)\n",
      "Requirement already satisfied: scandir; python_version < \"3.5\" in /usr/local/lib/python2.7/site-packages (from pathlib2>=2.2.0; python_version < \"3.6\"->pytest->ray[debug]==0.7.5) (1.9.0)\n"
     ]
    }
   ],
   "source": [
    "print('NOTE: Intentionally crashing session to use the newly installed library.\\n')\n",
    "\n",
    "!pip uninstall -y pyarrow\n",
    "!pip install ray[debug]==0.7.5\n",
    "\n",
    "# A hack to force the runtime to restart, needed to include the above dependencies.\n",
    "import os\n",
    "os._exit(0)"
   ]
  },
  {
   "cell_type": "markdown",
   "metadata": {
    "colab_type": "text",
    "id": "ei5WPYjRdskC"
   },
   "source": [
    "# Exercise 4 - Introducing Actors\n",
    "\n",
    "**Goal:** The goal of this exercise is to demonstrate how to create stateful actors and call their methods.\n",
    "\n",
    "For more details, please see the documentation on actors: http://ray.readthedocs.io/en/latest/actors.html\n",
    "\n",
    "Although remote functions are useful for parallelizing stateless computations, sometimes your workload requires maintaining state across invocations. Some examples might be a simple counter, a neural network during training, or a simulator environment. If using remote functions, you would have to pass this state into each function invocation and return the updated state when it finishes.\n",
    "\n",
    "However, Ray comes with a stateful abstraction for these situations: remote actors. An actor is a lot like a Python object - it is initialized with an `__init__` function (that has the same features has remote tasks), and can contain internal state that is accessed and mutated by remote method calls. Remote method calls will be executed one at a time on each actor, so there's no need to worry about race conditions on the actor's state. To achieve more parallelism, multiple actors can be created.\n",
    "\n",
    "### Remote Actors\n",
    "\n",
    "To create an actor, decorate a Python class with the `@ray.remote` decorator.\n",
    "\n",
    "```python\n",
    "@ray.remote\n",
    "class Example(object):\n",
    "    def __init__(self, x):\n",
    "        self.x = x\n",
    "    \n",
    "    def set(self, x):\n",
    "        self.x = x\n",
    "    \n",
    "    def get(self):\n",
    "        return self.x\n",
    "```\n",
    "\n",
    "Like regular Python classes, **actors encapsulate state that is shared across actor method invocations**.\n",
    "\n",
    "Actor classes differ from regular Python classes in the following ways.\n",
    "1. **Instantiation:** A regular class would be instantiated via `e = Example(1)`. Actors are instantiated via\n",
    "    ```python\n",
    "    e = Example.remote(1)\n",
    "    ```\n",
    "    When an actor is instantiated, a **new process** is created somewhere in the cluster and the actor __init__ method is run in that process.\n",
    "2. **Method Invocation:** Methods of a regular class would be invoked via `e.set(2)` or `e.get()`. Actor methods are invoked using remote task syntax.\n",
    "    ```python\n",
    "    >>> e.set.remote(2)\n",
    "    ObjectID(d966aa9b6486331dc2257522734a69ff603e5a1c)\n",
    "    \n",
    "    >>> e.get.remote()\n",
    "    ObjectID(7c432c085864ed4c7c18cf112377a608676afbc3)\n",
    "    ```\n",
    "3. **Return Values:** Actor methods are non-blocking. They immediately return an object ID and **create a task that is scheduled on the actor**. The result can be retrieved with `ray.get`.\n",
    "    ```python\n",
    "    >>> ray.get(e.set.remote(2))\n",
    "    None\n",
    "    \n",
    "    >>> ray.get(e.get.remote())\n",
    "    2\n",
    "    ```"
   ]
  },
  {
   "cell_type": "code",
   "execution_count": 1,
   "metadata": {
    "colab": {},
    "colab_type": "code",
    "id": "impMwpoqdskF"
   },
   "outputs": [
    {
     "name": "stdout",
     "output_type": "stream",
     "text": [
      "Successfully imported ray!\n"
     ]
    }
   ],
   "source": [
    "from __future__ import absolute_import\n",
    "from __future__ import division\n",
    "from __future__ import print_function\n",
    "\n",
    "from collections import defaultdict\n",
    "import numpy as np\n",
    "import time\n",
    "\n",
    "import ray\n",
    "\n",
    "print('Successfully imported ray!')"
   ]
  },
  {
   "cell_type": "code",
   "execution_count": 2,
   "metadata": {
    "colab": {},
    "colab_type": "code",
    "id": "qMVSh6bBdskJ"
   },
   "outputs": [
    {
     "name": "stderr",
     "output_type": "stream",
     "text": [
      "2019-10-13 11:11:22,993\tINFO node.py:498 -- Process STDOUT and STDERR is being redirected to /tmp/ray/session_2019-10-13_11-11-22_991197_4139/logs.\n",
      "2019-10-13 11:11:23,102\tINFO services.py:409 -- Waiting for redis server at 127.0.0.1:56370 to respond...\n",
      "2019-10-13 11:11:23,222\tINFO services.py:409 -- Waiting for redis server at 127.0.0.1:15839 to respond...\n",
      "2019-10-13 11:11:23,227\tINFO services.py:809 -- Starting Redis shard with 3.44 GB max memory.\n",
      "2019-10-13 11:11:23,238\tINFO node.py:512 -- Process STDOUT and STDERR is being redirected to /tmp/ray/session_2019-10-13_11-11-22_991197_4139/logs.\n",
      "2019-10-13 11:11:23,241\tWARNING services.py:1330 -- WARNING: The default object store size of 5.15 GB will use more than 50% of the available memory on this node (9.45 GB). Consider setting the object store memory manually to a smaller size to avoid memory contention with other applications.\n",
      "2019-10-13 11:11:23,242\tINFO services.py:1475 -- Starting the Plasma object store with 5.15 GB memory using /tmp.\n"
     ]
    },
    {
     "data": {
      "text/plain": [
       "{'node_ip_address': '10.207.192.126',\n",
       " 'redis_address': '10.207.192.126:56370',\n",
       " 'object_store_address': '/tmp/ray/session_2019-10-13_11-11-22_991197_4139/sockets/plasma_store',\n",
       " 'raylet_socket_name': '/tmp/ray/session_2019-10-13_11-11-22_991197_4139/sockets/raylet',\n",
       " 'webui_url': None,\n",
       " 'session_dir': '/tmp/ray/session_2019-10-13_11-11-22_991197_4139'}"
      ]
     },
     "execution_count": 2,
     "metadata": {},
     "output_type": "execute_result"
    }
   ],
   "source": [
    "ray.init(num_cpus=4, ignore_reinit_error=True)"
   ]
  },
  {
   "cell_type": "markdown",
   "metadata": {
    "colab_type": "text",
    "id": "B6nnZRgPdskM"
   },
   "source": [
    "**EXERCISE:** Make the `Foo` class an actor class |using the `@ray.remote` decorator."
   ]
  },
  {
   "cell_type": "code",
   "execution_count": 4,
   "metadata": {
    "colab": {},
    "colab_type": "code",
    "id": "36mT90AzdskN"
   },
   "outputs": [],
   "source": [
    "@ray.remote\n",
    "class Foo(object):\n",
    "    def __init__(self):\n",
    "        self.counter = 0\n",
    "\n",
    "    def reset(self):\n",
    "        self.counter = 0\n",
    "\n",
    "    def increment(self):\n",
    "        time.sleep(0.5)\n",
    "        self.counter += 1\n",
    "        return self.counter\n",
    "\n",
    "assert hasattr(Foo, 'remote'), 'You need to turn \"Foo\" into an actor with @ray.remote.'"
   ]
  },
  {
   "cell_type": "markdown",
   "metadata": {
    "colab_type": "text",
    "id": "2x-RmcLHdskQ"
   },
   "source": [
    "**EXERCISE:** Change the intantiations below to create two actors by calling `Foo.remote()`."
   ]
  },
  {
   "cell_type": "code",
   "execution_count": 5,
   "metadata": {
    "colab": {},
    "colab_type": "code",
    "id": "UEY4DM14dskR"
   },
   "outputs": [],
   "source": [
    "# Create two Foo actors.\n",
    "f1 = Foo.remote()\n",
    "f2 = Foo.remote()"
   ]
  },
  {
   "cell_type": "markdown",
   "metadata": {
    "colab_type": "text",
    "id": "uNLLwSDedskU"
   },
   "source": [
    "**EXERCISE:** Parallelize the code below. The two actors can execute methods in parallel (though each actor can only execute one method at a time)."
   ]
  },
  {
   "cell_type": "code",
   "execution_count": 6,
   "metadata": {
    "colab": {},
    "colab_type": "code",
    "id": "oQ1rPfH-dskU"
   },
   "outputs": [],
   "source": [
    "start_time = time.time()\n",
    "\n",
    "# Reset the actor state so that we can run this cell multiple times without\n",
    "# changing the results.\n",
    "f1.reset.remote()\n",
    "f2.reset.remote()\n",
    "\n",
    "# We want to parallelize this code. However, it is not straightforward to\n",
    "# make \"increment\" a remote function, because state is shared (the value of\n",
    "# \"self.counter\") between subsequent calls to \"increment\". In this case, it\n",
    "# makes sense to use actors.\n",
    "results = []\n",
    "for _ in range(5):\n",
    "    results.append(f1.increment.remote())\n",
    "    results.append(f2.increment.remote())\n",
    "\n",
    "results = ray.get(results)\n",
    "\n",
    "duration = time.time() - start_time\n",
    "assert not any([isinstance(result, ray.ObjectID) for result in results]), 'Looks like \"results\" is {}. You may have forgotten to call ray.get.'.format(results)"
   ]
  },
  {
   "cell_type": "markdown",
   "metadata": {
    "colab_type": "text",
    "id": "-NShq-F3dska"
   },
   "source": [
    "**VERIFY:** Run some checks to verify that the changes you made to the code were correct. Some of the checks should fail when you initially run the cells. After completing the exercises, the checks should pass."
   ]
  },
  {
   "cell_type": "code",
   "execution_count": 7,
   "metadata": {
    "colab": {},
    "colab_type": "code",
    "id": "w8t7nmbHdskc"
   },
   "outputs": [
    {
     "name": "stdout",
     "output_type": "stream",
     "text": [
      "Success! The example took 2.875 seconds.\n"
     ]
    }
   ],
   "source": [
    "assert results == [1, 1, 2, 2, 3, 3, 4, 4, 5, 5]\n",
    "\n",
    "assert duration < 3, ('The experiments ran in {:.3f} seconds. This is too '\n",
    "                      'slow.'.format(duration))\n",
    "assert duration > 2.5, ('The experiments ran in {:.3f} seconds. This is too '\n",
    "                        'fast.'.format(duration))\n",
    "\n",
    "print('Success! The example took {:.3f} seconds.'.format(duration))"
   ]
  },
  {
   "cell_type": "markdown",
   "metadata": {
    "colab_type": "text",
    "id": "5PDHBlMRmwlJ"
   },
   "source": [
    "# Exercise 5 - Sharing References to an Actor\n",
    "\n",
    "**GOAL:** The goal of this exercise is to show how to pass references to actors to remote functions and methods.\n",
    "\n",
    "Sometimes, we may want to have multiple remote tasks that invoke methods on the same actor. For example, we may have a single actor that records logging information for a group of tasks and allows other tasks to query the logs. We can achieve this by passing a handle to the actor (the object returned from calling `Actor.remote()`) as an argument to the tasks.\n",
    "\n",
    "### Actor Handles\n",
    "\n",
    "First, we instantiate an actor:\n",
    "\n",
    "```python\n",
    "@ray.remote\n",
    "class Actor(object):\n",
    "    def method(self):\n",
    "        pass\n",
    "\n",
    "# Create the actor\n",
    "actor = Actor.remote()\n",
    "```\n",
    "\n",
    "We can define a remote function (or another actor) that takes an actor handle as an argument:\n",
    "\n",
    "```python\n",
    "@ray.remote\n",
    "def f(actor):\n",
    "    # We can invoke a method on the actor and wait for its result.\n",
    "    return ray.get(actor.method.remote())\n",
    "```\n",
    "\n",
    "This remote function can be invoked multiple times. Each invocation will have a reference to the\n",
    "same actor.\n",
    "\n",
    "```python\n",
    "# Each of the three tasks created below will invoke methods on the same actor.\n",
    "f.remote(actor)\n",
    "f.remote(actor)\n",
    "f.remote(actor)\n",
    "```"
   ]
  },
  {
   "cell_type": "markdown",
   "metadata": {
    "colab_type": "text",
    "id": "gwWAaZU-na-d"
   },
   "source": [
    "In this exercise, we're going to write some code that runs several \"experiments\" in parallel and has each experiment log its results to a shared actor. The main driver script can then periodically pull the results from the logging actor.\n",
    "\n",
    "**EXERCISE:** Turn this `LoggingActor` class into an actor class."
   ]
  },
  {
   "cell_type": "code",
   "execution_count": 9,
   "metadata": {
    "colab": {},
    "colab_type": "code",
    "id": "XEMkg2hTnckg"
   },
   "outputs": [],
   "source": [
    "@ray.remote\n",
    "class LoggingActor(object):\n",
    "    def __init__(self):\n",
    "        self.logs = defaultdict(lambda: [])\n",
    "    \n",
    "    def log(self, index, message):\n",
    "        self.logs[index].append(message)\n",
    "    \n",
    "    def get_logs(self):\n",
    "        return dict(self.logs)\n",
    "\n",
    "\n",
    "assert hasattr(LoggingActor, 'remote'), ('You need to turn LoggingActor into an '\n",
    "                                         'actor (by using the ray.remote keyword).')"
   ]
  },
  {
   "cell_type": "markdown",
   "metadata": {
    "colab_type": "text",
    "id": "SsuRSVf7nip1"
   },
   "source": [
    "**EXERCISE:** Instantiate the actor."
   ]
  },
  {
   "cell_type": "code",
   "execution_count": 10,
   "metadata": {
    "colab": {},
    "colab_type": "code",
    "id": "-edD--YunoXB"
   },
   "outputs": [],
   "source": [
    "logging_actor = LoggingActor.remote()"
   ]
  },
  {
   "cell_type": "markdown",
   "metadata": {
    "colab_type": "text",
    "id": "OJ08ei6WnprM"
   },
   "source": [
    "Now we define a remote function that runs and pushes its logs to the `LoggingActor`.\n",
    "\n",
    "**EXERCISE:** Modify this function so that it invokes methods correctly on `logging_actor` (you need to change the way you call the `log` method)."
   ]
  },
  {
   "cell_type": "code",
   "execution_count": 11,
   "metadata": {
    "colab": {},
    "colab_type": "code",
    "id": "7aV7z23bnt21"
   },
   "outputs": [],
   "source": [
    "@ray.remote\n",
    "def run_experiment(experiment_index, logging_actor):\n",
    "    for i in range(60):\n",
    "        time.sleep(1)\n",
    "        # Push a logging message to the actor.\n",
    "        logging_actor.log.remote(experiment_index, 'On iteration {}'.format(i))"
   ]
  },
  {
   "cell_type": "markdown",
   "metadata": {
    "colab_type": "text",
    "id": "NGv-_hOinxrU"
   },
   "source": [
    "Now we create several tasks that use the logging actor."
   ]
  },
  {
   "cell_type": "code",
   "execution_count": 12,
   "metadata": {
    "colab": {},
    "colab_type": "code",
    "id": "vVNhaYfXn49g"
   },
   "outputs": [],
   "source": [
    "experiment_ids = []\n",
    "for i in range(3):\n",
    "    experiment_ids.append(run_experiment.remote(i, logging_actor))"
   ]
  },
  {
   "cell_type": "markdown",
   "metadata": {
    "colab_type": "text",
    "id": "xzdS-HCJn-iF"
   },
   "source": [
    "While the experiments are running in the background, the driver process (that is, this Jupyter notebook) can query the actor to read the logs.\n",
    "\n",
    "---\n",
    "\n",
    "\n",
    "\n",
    "**EXERCISE:** Modify the code below to fetch logs from the `LoggingActor` using a remote method call."
   ]
  },
  {
   "cell_type": "code",
   "execution_count": 14,
   "metadata": {
    "colab": {},
    "colab_type": "code",
    "id": "KCAjMOZGoBjU"
   },
   "outputs": [
    {
     "data": {
      "text/plain": [
       "{0: ['On iteration 0',\n",
       "  'On iteration 1',\n",
       "  'On iteration 2',\n",
       "  'On iteration 3',\n",
       "  'On iteration 4',\n",
       "  'On iteration 5',\n",
       "  'On iteration 6',\n",
       "  'On iteration 7',\n",
       "  'On iteration 8',\n",
       "  'On iteration 9',\n",
       "  'On iteration 10',\n",
       "  'On iteration 11',\n",
       "  'On iteration 12',\n",
       "  'On iteration 13'],\n",
       " 1: ['On iteration 0',\n",
       "  'On iteration 1',\n",
       "  'On iteration 2',\n",
       "  'On iteration 3',\n",
       "  'On iteration 4',\n",
       "  'On iteration 5',\n",
       "  'On iteration 6',\n",
       "  'On iteration 7',\n",
       "  'On iteration 8',\n",
       "  'On iteration 9',\n",
       "  'On iteration 10',\n",
       "  'On iteration 11',\n",
       "  'On iteration 12',\n",
       "  'On iteration 13'],\n",
       " 2: ['On iteration 0',\n",
       "  'On iteration 1',\n",
       "  'On iteration 2',\n",
       "  'On iteration 3',\n",
       "  'On iteration 4',\n",
       "  'On iteration 5',\n",
       "  'On iteration 6',\n",
       "  'On iteration 7',\n",
       "  'On iteration 8',\n",
       "  'On iteration 9',\n",
       "  'On iteration 10',\n",
       "  'On iteration 11',\n",
       "  'On iteration 12',\n",
       "  'On iteration 13']}"
      ]
     },
     "execution_count": 14,
     "metadata": {},
     "output_type": "execute_result"
    }
   ],
   "source": [
    "logs = ray.get(logging_actor.get_logs.remote())\n",
    "\n",
    "assert isinstance(logs, dict), (\"Make sure that you dispatch tasks to the \"\n",
    "                                \"actor using the .remote keyword and get the results using ray.get.\")\n",
    "logs"
   ]
  },
  {
   "cell_type": "markdown",
   "metadata": {
    "colab_type": "text",
    "id": "zErhr777oFlJ"
   },
   "source": [
    "**EXERCISE:** Try running the above box multiple times and see how the results change (while the experiments are still running in the background). You can also try running more of the experiment tasks and see what happens."
   ]
  }
 ],
 "metadata": {
  "colab": {
   "collapsed_sections": [],
   "name": "[ANSWER KEY] Ray Tutorial - Remote Actors",
   "provenance": []
  },
  "kernelspec": {
   "display_name": "Python 3",
   "language": "python",
   "name": "python3"
  },
  "language_info": {
   "codemirror_mode": {
    "name": "ipython",
    "version": 3
   },
   "file_extension": ".py",
   "mimetype": "text/x-python",
   "name": "python",
   "nbconvert_exporter": "python",
   "pygments_lexer": "ipython3",
   "version": "3.7.4"
  },
  "toc": {
   "base_numbering": 1,
   "nav_menu": {},
   "number_sections": false,
   "sideBar": true,
   "skip_h1_title": false,
   "title_cell": "Table of Contents",
   "title_sidebar": "Contents",
   "toc_cell": false,
   "toc_position": {
    "height": "calc(100% - 180px)",
    "left": "10px",
    "top": "150px",
    "width": "382.391px"
   },
   "toc_section_display": true,
   "toc_window_display": true
  }
 },
 "nbformat": 4,
 "nbformat_minor": 1
}
